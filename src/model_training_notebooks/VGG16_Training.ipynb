{
 "cells": [
  {
   "cell_type": "code",
   "execution_count": 1,
   "id": "69b6cb88-3ca0-4229-b0ce-9f36b20e1208",
   "metadata": {},
   "outputs": [],
   "source": [
    "import torch\n",
    "import torchvision\n",
    "import torch.optim as optim\n",
    "import torch.nn as nn\n",
    "import torchvision.transforms as transforms\n",
    "from torchvision.datasets import CIFAR10"
   ]
  },
  {
   "cell_type": "code",
   "execution_count": 2,
   "id": "2cf89dbf-bbf0-4be6-a863-113b6549fee7",
   "metadata": {},
   "outputs": [],
   "source": [
    "import os\n",
    "import sys\n",
    "\n",
    "# Add parent directory to path (which is the 'src' directory containing data_loaders.py)\n",
    "parent_dir = os.path.dirname(os.getcwd())  # This gets the src directory\n",
    "sys.path.append(parent_dir)\n",
    "\n",
    "# Now you can import directly\n",
    "from data_loaders import data_loader"
   ]
  },
  {
   "cell_type": "code",
   "execution_count": 3,
   "id": "105de580-5deb-445a-8585-1e32a745c29b",
   "metadata": {},
   "outputs": [],
   "source": [
    "learning_rates = [0.001, 0.0001, 0.01]\n",
    "metrics = {lr: {'loss': [], 'accuracy': []} for lr in learning_rates}"
   ]
  },
  {
   "cell_type": "code",
   "execution_count": 4,
   "id": "4f345689-5c95-4c71-867f-46411b5cf890",
   "metadata": {},
   "outputs": [
    {
     "name": "stdout",
     "output_type": "stream",
     "text": [
      "Files already downloaded and verified\n",
      "Files already downloaded and verified\n"
     ]
    }
   ],
   "source": [
    "train_loader, test_loader = data_loader('CIFAR10', 128, 8)"
   ]
  },
  {
   "cell_type": "code",
   "execution_count": 5,
   "id": "71ded26a-91a5-445d-8bc0-93bdc0ebebfa",
   "metadata": {},
   "outputs": [
    {
     "name": "stdout",
     "output_type": "stream",
     "text": [
      "cuda\n"
     ]
    }
   ],
   "source": [
    "device = torch.device('cuda' if torch.cuda.is_available() else 'cpu')\n",
    "print(device)"
   ]
  },
  {
   "cell_type": "code",
   "execution_count": 6,
   "id": "9c763de5-1d89-447c-90ec-68fc10a27e8c",
   "metadata": {},
   "outputs": [
    {
     "name": "stdout",
     "output_type": "stream",
     "text": [
      "Training with learning rate: 0.001\n",
      "LR 0.001 | Epoch [1/10] | Loss: 2.4942 | Accuracy: 9.84%\n",
      "LR 0.001 | Epoch [2/10] | Loss: 2.3028 | Accuracy: 9.79%\n",
      "LR 0.001 | Epoch [3/10] | Loss: 2.3027 | Accuracy: 9.79%\n",
      "LR 0.001 | Epoch [4/10] | Loss: 2.3027 | Accuracy: 9.87%\n",
      "LR 0.001 | Epoch [5/10] | Loss: 2.3027 | Accuracy: 9.80%\n",
      "LR 0.001 | Epoch [6/10] | Loss: 2.3027 | Accuracy: 9.82%\n",
      "LR 0.001 | Epoch [7/10] | Loss: 2.3027 | Accuracy: 9.98%\n",
      "LR 0.001 | Epoch [8/10] | Loss: 2.3027 | Accuracy: 9.76%\n",
      "LR 0.001 | Epoch [9/10] | Loss: 2.3027 | Accuracy: 9.60%\n",
      "LR 0.001 | Epoch [10/10] | Loss: 2.3027 | Accuracy: 10.12%\n",
      "Model with LR 0.001 saved to ../trained_model_weights/vgg16_lr_0.001.pth\n",
      "Training with learning rate: 0.0001\n",
      "LR 0.0001 | Epoch [1/10] | Loss: 1.8781 | Accuracy: 26.58%\n",
      "LR 0.0001 | Epoch [2/10] | Loss: 1.5144 | Accuracy: 42.39%\n",
      "LR 0.0001 | Epoch [3/10] | Loss: 1.2878 | Accuracy: 52.90%\n",
      "LR 0.0001 | Epoch [4/10] | Loss: 1.1366 | Accuracy: 59.18%\n",
      "LR 0.0001 | Epoch [5/10] | Loss: 1.0207 | Accuracy: 63.55%\n",
      "LR 0.0001 | Epoch [6/10] | Loss: 0.9339 | Accuracy: 66.87%\n",
      "LR 0.0001 | Epoch [7/10] | Loss: 0.8580 | Accuracy: 69.86%\n",
      "LR 0.0001 | Epoch [8/10] | Loss: 0.7967 | Accuracy: 72.44%\n",
      "LR 0.0001 | Epoch [9/10] | Loss: 0.7435 | Accuracy: 74.21%\n",
      "LR 0.0001 | Epoch [10/10] | Loss: 0.6950 | Accuracy: 75.90%\n",
      "Model with LR 0.0001 saved to ../trained_model_weights/vgg16_lr_0.0001.pth\n",
      "Training with learning rate: 0.01\n",
      "LR 0.01 | Epoch [1/10] | Loss: 77132024.2472 | Accuracy: 9.93%\n",
      "LR 0.01 | Epoch [2/10] | Loss: 2.3051 | Accuracy: 9.92%\n",
      "LR 0.01 | Epoch [3/10] | Loss: 2.3039 | Accuracy: 9.62%\n",
      "LR 0.01 | Epoch [4/10] | Loss: 2.3035 | Accuracy: 9.92%\n",
      "LR 0.01 | Epoch [5/10] | Loss: 2.3036 | Accuracy: 9.89%\n",
      "LR 0.01 | Epoch [6/10] | Loss: 2.3033 | Accuracy: 10.22%\n",
      "LR 0.01 | Epoch [7/10] | Loss: 2.3039 | Accuracy: 9.90%\n",
      "LR 0.01 | Epoch [8/10] | Loss: 2.3070 | Accuracy: 9.84%\n",
      "LR 0.01 | Epoch [9/10] | Loss: 2.3063 | Accuracy: 10.06%\n",
      "LR 0.01 | Epoch [10/10] | Loss: 2.3104 | Accuracy: 9.93%\n",
      "Model with LR 0.01 saved to ../trained_model_weights/vgg16_lr_0.01.pth\n"
     ]
    }
   ],
   "source": [
    "num_epochs = 10\n",
    "\n",
    "for lr in learning_rates:\n",
    "    print(f\"Training with learning rate: {lr}\")\n",
    "\n",
    "    # Reinitialize the model for each learning rate\n",
    "    model = torchvision.models.vgg16(weights=None)\n",
    "    num_features = model.classifier[-1].in_features\n",
    "    model.classifier[-1] = nn.Linear(num_features, 10)\n",
    "    model = model.to(device)\n",
    "\n",
    "    # Define optimizer with the current learning rate\n",
    "    criterion = nn.CrossEntropyLoss()\n",
    "    optimizer = optim.Adam(model.parameters(), lr=lr)\n",
    "\n",
    "    # Training loop\n",
    "    for epoch in range(num_epochs):\n",
    "        model.train()\n",
    "        running_loss = 0.0\n",
    "        correct = 0\n",
    "        total = 0\n",
    "\n",
    "        for inputs, labels in train_loader:\n",
    "            inputs, labels = inputs.to(device), labels.to(device)\n",
    "\n",
    "            optimizer.zero_grad()\n",
    "            outputs = model(inputs)\n",
    "            loss = criterion(outputs, labels)\n",
    "            loss.backward()\n",
    "            optimizer.step()\n",
    "\n",
    "            running_loss += loss.item()\n",
    "            _, predicted = torch.max(outputs, 1)\n",
    "            total += labels.size(0)\n",
    "            correct += (predicted == labels).sum().item()\n",
    "\n",
    "        epoch_loss = running_loss / len(train_loader)\n",
    "        epoch_accuracy = 100 * correct / total\n",
    "\n",
    "        metrics[lr]['loss'].append(epoch_loss)\n",
    "        metrics[lr]['accuracy'].append(epoch_accuracy)\n",
    "\n",
    "        print(f\"LR {lr} | Epoch [{epoch+1}/{num_epochs}] | Loss: {epoch_loss:.4f} | Accuracy: {epoch_accuracy:.2f}%\")\n",
    "\n",
    "    # Save model weights\n",
    "    model_save_path = f\"../trained_model_weights/vgg16_lr_{lr}.pth\"\n",
    "    torch.save(model.state_dict(), model_save_path)\n",
    "    print(f\"Model with LR {lr} saved to {model_save_path}\")"
   ]
  },
  {
   "cell_type": "code",
   "execution_count": 7,
   "id": "98288c20-3e07-4907-a6ee-4cfaffcdb219",
   "metadata": {},
   "outputs": [
    {
     "name": "stdout",
     "output_type": "stream",
     "text": [
      "Directory created: True\n"
     ]
    }
   ],
   "source": [
    "print(\"Directory created:\", os.path.exists(\"../trained_model_weights\"))"
   ]
  },
  {
   "cell_type": "code",
   "execution_count": 8,
   "id": "05fe31fd-ca6d-4509-9d97-fdeee1f84320",
   "metadata": {},
   "outputs": [],
   "source": [
    "import json\n",
    "with open(\"../trained_model_weights/vgg16_metrics.json\", \"w\") as f:\n",
    "    json.dump(metrics, f)"
   ]
  }
 ],
 "metadata": {
  "kernelspec": {
   "display_name": "Python 3 (ipykernel)",
   "language": "python",
   "name": "python3"
  },
  "language_info": {
   "codemirror_mode": {
    "name": "ipython",
    "version": 3
   },
   "file_extension": ".py",
   "mimetype": "text/x-python",
   "name": "python",
   "nbconvert_exporter": "python",
   "pygments_lexer": "ipython3",
   "version": "3.11.9"
  }
 },
 "nbformat": 4,
 "nbformat_minor": 5
}
